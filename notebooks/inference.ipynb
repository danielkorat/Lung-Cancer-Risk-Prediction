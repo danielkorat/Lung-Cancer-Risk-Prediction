{
  "nbformat": 4,
  "nbformat_minor": 0,
  "metadata": {
    "colab": {
      "name": "inference.ipynb",
      "provenance": []
    },
    "kernelspec": {
      "name": "python3",
      "display_name": "Python 3"
    },
    "accelerator": "GPU"
  },
  "cells": [
    {
      "cell_type": "code",
      "metadata": {
        "id": "9VeerpOr_-yg",
        "colab_type": "code",
        "colab": {}
      },
      "source": [
        "# clone repository\n",
        "!git clone -q https://github.com/danielkorat/Lung-Cancer-Risk-Prediction\n",
        "\n",
        "cd Lung-Cancer-Risk-Prediction\n",
        "\n",
        "# install required packages\n",
        "!pip install -q -q -r requirements.txt"
      ],
      "execution_count": null,
      "outputs": []
    },
    {
      "cell_type": "code",
      "metadata": {
        "id": "260LtXkfGrZ6",
        "colab_type": "code",
        "colab": {}
      },
      "source": [
        "# Run inference on sample data\n",
        "!python main.py --inference sample_data"
      ],
      "execution_count": null,
      "outputs": []
    }
  ]
}